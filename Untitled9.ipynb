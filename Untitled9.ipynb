{
 "cells": [
  {
   "cell_type": "code",
   "execution_count": 2,
   "id": "132f0858",
   "metadata": {},
   "outputs": [
    {
     "name": "stdout",
     "output_type": "stream",
     "text": [
      "Writing mytext.txt\n"
     ]
    }
   ],
   "source": [
    "%%writefile mytext.txt\n",
    "Hello Muni u are dumb\n",
    "I hate you"
   ]
  },
  {
   "cell_type": "code",
   "execution_count": 3,
   "id": "ec962cfc",
   "metadata": {},
   "outputs": [
    {
     "ename": "NameError",
     "evalue": "name 'mytext' is not defined",
     "output_type": "error",
     "traceback": [
      "\u001b[1;31m---------------------------------------------------------------------------\u001b[0m",
      "\u001b[1;31mNameError\u001b[0m                                 Traceback (most recent call last)",
      "Cell \u001b[1;32mIn[3], line 1\u001b[0m\n\u001b[1;32m----> 1\u001b[0m openfile\u001b[38;5;241m=\u001b[39m\u001b[38;5;28mopen\u001b[39m(mytext\u001b[38;5;241m.\u001b[39mtxt)\n",
      "\u001b[1;31mNameError\u001b[0m: name 'mytext' is not defined"
     ]
    }
   ],
   "source": [
    "openfile=open(mytext.txt)"
   ]
  },
  {
   "cell_type": "code",
   "execution_count": 4,
   "id": "0553f268",
   "metadata": {},
   "outputs": [],
   "source": [
    "openfile=open(\"mytext.txt\"\n",
    "             )"
   ]
  },
  {
   "cell_type": "code",
   "execution_count": 5,
   "id": "33f02cbe",
   "metadata": {},
   "outputs": [
    {
     "data": {
      "text/plain": [
       "'C:\\\\Users\\\\Rohit V\\\\Prgms'"
      ]
     },
     "execution_count": 5,
     "metadata": {},
     "output_type": "execute_result"
    }
   ],
   "source": [
    "pwd"
   ]
  },
  {
   "cell_type": "code",
   "execution_count": 6,
   "id": "d0e93127",
   "metadata": {},
   "outputs": [
    {
     "data": {
      "text/plain": [
       "'Hello Muni u are dumb\\nI hate you\\n'"
      ]
     },
     "execution_count": 6,
     "metadata": {},
     "output_type": "execute_result"
    }
   ],
   "source": [
    "openfile.read()\n"
   ]
  },
  {
   "cell_type": "code",
   "execution_count": 10,
   "id": "d68605af",
   "metadata": {},
   "outputs": [
    {
     "data": {
      "text/plain": [
       "0"
      ]
     },
     "execution_count": 10,
     "metadata": {},
     "output_type": "execute_result"
    }
   ],
   "source": [
    "openfile.seek(0)"
   ]
  },
  {
   "cell_type": "code",
   "execution_count": 8,
   "id": "6383527c",
   "metadata": {},
   "outputs": [
    {
     "data": {
      "text/plain": [
       "'Hello Muni u are dumb\\nI hate you\\n'"
      ]
     },
     "execution_count": 8,
     "metadata": {},
     "output_type": "execute_result"
    }
   ],
   "source": [
    "openfile.read()"
   ]
  },
  {
   "cell_type": "code",
   "execution_count": 11,
   "id": "fc1d2622",
   "metadata": {},
   "outputs": [],
   "source": [
    "content=openfile.read()"
   ]
  },
  {
   "cell_type": "code",
   "execution_count": 12,
   "id": "7deed300",
   "metadata": {},
   "outputs": [],
   "source": [
    "openfile.close()"
   ]
  },
  {
   "cell_type": "code",
   "execution_count": 14,
   "id": "fcc20b0a",
   "metadata": {},
   "outputs": [],
   "source": [
    "with open(\"mytext.txt\") as new_file:\n",
    "    contents=new_file.read()"
   ]
  },
  {
   "cell_type": "code",
   "execution_count": 28,
   "id": "4cdfad23",
   "metadata": {},
   "outputs": [
    {
     "name": "stdout",
     "output_type": "stream",
     "text": [
      "Overwriting x.txt\n"
     ]
    }
   ],
   "source": [
    "%%writefile x.txt\n",
    "Muni is dumb\n",
    "Muni is big\n",
    "Muni is funny"
   ]
  },
  {
   "cell_type": "code",
   "execution_count": 29,
   "id": "a41c83b6",
   "metadata": {},
   "outputs": [
    {
     "name": "stdout",
     "output_type": "stream",
     "text": [
      "Muni is dumb\n",
      "Muni is big\n",
      "Muni is funny\n",
      "\n"
     ]
    }
   ],
   "source": [
    "with open(\"x.txt\", mode=\"r\") as f:\n",
    "    print(f.read())"
   ]
  },
  {
   "cell_type": "code",
   "execution_count": 30,
   "id": "9c56a582",
   "metadata": {},
   "outputs": [],
   "source": [
    "with open(\"x.txt\", mode=\"a\") as f:\n",
    "    f.write(\"Muni is stupid\")\n",
    "    "
   ]
  },
  {
   "cell_type": "code",
   "execution_count": 31,
   "id": "35372cb5",
   "metadata": {},
   "outputs": [
    {
     "name": "stdout",
     "output_type": "stream",
     "text": [
      "Muni is dumb\n",
      "Muni is big\n",
      "Muni is funny\n",
      "Muni is stupid\n"
     ]
    }
   ],
   "source": [
    "with open(\"x.txt\", mode=\"r\") as f:\n",
    "    print(f.read())"
   ]
  },
  {
   "cell_type": "code",
   "execution_count": 32,
   "id": "8c046e86",
   "metadata": {},
   "outputs": [],
   "source": [
    "with open(\"muni.txt\", mode=\"w\") as f:\n",
    "    f.write(\"He is really dumb\")"
   ]
  },
  {
   "cell_type": "code",
   "execution_count": 33,
   "id": "94fa4a47",
   "metadata": {},
   "outputs": [
    {
     "name": "stdout",
     "output_type": "stream",
     "text": [
      "He is really dumb\n"
     ]
    }
   ],
   "source": [
    "with open(\"muni.txt\", mode=\"r\") as f:\n",
    "    print(f.read())"
   ]
  },
  {
   "cell_type": "code",
   "execution_count": null,
   "id": "223a76ef",
   "metadata": {},
   "outputs": [],
   "source": []
  }
 ],
 "metadata": {
  "kernelspec": {
   "display_name": "Python 3 (ipykernel)",
   "language": "python",
   "name": "python3"
  },
  "language_info": {
   "codemirror_mode": {
    "name": "ipython",
    "version": 3
   },
   "file_extension": ".py",
   "mimetype": "text/x-python",
   "name": "python",
   "nbconvert_exporter": "python",
   "pygments_lexer": "ipython3",
   "version": "3.11.4"
  }
 },
 "nbformat": 4,
 "nbformat_minor": 5
}
